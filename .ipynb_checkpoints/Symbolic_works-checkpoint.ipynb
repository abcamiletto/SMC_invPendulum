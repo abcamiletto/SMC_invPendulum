{
 "cells": [
  {
   "cell_type": "markdown",
   "metadata": {},
   "source": [
    "# Symbolic math\n",
    "A simple setup to do cool things with symbols\n"
   ]
  },
  {
   "cell_type": "code",
   "execution_count": 133,
   "metadata": {},
   "outputs": [],
   "source": [
    "from sympy import *\n",
    "from sympy import init_printing\n",
    "init_printing()"
   ]
  },
  {
   "cell_type": "markdown",
   "metadata": {},
   "source": [
    "## Matrix calculations"
   ]
  },
  {
   "cell_type": "code",
   "execution_count": 156,
   "metadata": {},
   "outputs": [],
   "source": [
    "k1, k2, k3, k4 = symbols('k1 k2 k3 k4')\n",
    "x1, x2, x3, x4 = symbols('x1 x2 x3 x4')\n",
    "u = symbols('u')\n",
    "\n",
    "C = Matrix((c1,c2,c3,c4)).T\n",
    "C = C.subs(c1,1).subs(c2,1).subs(c3,1).subs(c4,1)\n",
    "A = Matrix(((0,1,0,0),(-1,0,10,0),(0,0,0,1),(-1,0,20,0)))\n",
    "B = Matrix((0,1,0,1))\n",
    "x = Matrix((x1,x2,x3,x4))\n",
    "K = Matrix((k1,k2,k3,k4)).T\n",
    "uc = -K*x"
   ]
  },
  {
   "cell_type": "code",
   "execution_count": 172,
   "metadata": {},
   "outputs": [
    {
     "name": "stdout",
     "output_type": "stream",
     "text": [
      "[x₁ + x₂ + x₃ + x₄]\n",
      "x₁⋅(-k₁ - 2) + x₂⋅(1 - k₂) + x₃⋅(30 - k₃) + x₄⋅(1 - k₄)\n"
     ]
    }
   ],
   "source": [
    "s = C*x\n",
    "sd = C*A*x + uc\n",
    "sd = collect(sd[0],(x1,x2,x3,x4))\n",
    "pprint(s)\n",
    "pprint(sd)"
   ]
  },
  {
   "cell_type": "markdown",
   "metadata": {},
   "source": [
    "## Trigonometric simplify\n"
   ]
  },
  {
   "cell_type": "code",
   "execution_count": 136,
   "metadata": {},
   "outputs": [],
   "source": [
    "t = Symbol('t')\n",
    "esp = 1- 1/2*cos(t)**2\n"
   ]
  }
 ],
 "metadata": {
  "kernelspec": {
   "display_name": "Python 3",
   "language": "python",
   "name": "python3"
  },
  "language_info": {
   "codemirror_mode": {
    "name": "ipython",
    "version": 3
   },
   "file_extension": ".py",
   "mimetype": "text/x-python",
   "name": "python",
   "nbconvert_exporter": "python",
   "pygments_lexer": "ipython3",
   "version": "3.8.5"
  }
 },
 "nbformat": 4,
 "nbformat_minor": 4
}
