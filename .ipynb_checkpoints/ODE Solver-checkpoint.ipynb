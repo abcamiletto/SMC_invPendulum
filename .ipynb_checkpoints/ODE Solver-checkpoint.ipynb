{
 "cells": [
  {
   "cell_type": "markdown",
   "metadata": {},
   "source": [
    "# ODE Solver\n",
    "To try out the 2D pendulum results"
   ]
  },
  {
   "cell_type": "code",
   "execution_count": 2,
   "metadata": {},
   "outputs": [],
   "source": [
    "import numpy as np\n",
    "from scipy.integrate import odeint\n",
    "import matplotlib.pyplot as plt"
   ]
  },
  {
   "cell_type": "code",
   "execution_count": 3,
   "metadata": {},
   "outputs": [],
   "source": [
    "def mysistem(x , t):\n",
    "    s = 4.47*x[0] + x[1]\n",
    "    \n",
    "    if s*x[0]>0: k1 = 25\n",
    "    else: k1 = 15\n",
    "    if s*x[1]>0: k2 = 6\n",
    "    else: k2 = 3\n",
    "\n",
    "    u = -k1*x[0] + -k2*x[1]\n",
    "    dx0dt = x[1]\n",
    "    dx1dt = 20*x[0] + u\n",
    "    dxdt = [dx0dt, dx1dt]\n",
    "    \n",
    "    return dxdt"
   ]
  },
  {
   "cell_type": "code",
   "execution_count": 22,
   "metadata": {},
   "outputs": [
    {
     "name": "stderr",
     "output_type": "stream",
     "text": [
      "/home/andrea/anaconda2/envs/ai/lib/python3.8/site-packages/scipy/integrate/odepack.py:247: ODEintWarning: Excess work done on this call (perhaps wrong Dfun type). Run with full_output = 1 to get quantitative information.\n",
      "  warnings.warn(warning_msg, ODEintWarning)\n"
     ]
    }
   ],
   "source": [
    "#initial condition\n",
    "x1_0 = 0.01\n",
    "x2_0 = 0.01\n",
    "x_0 = [x1_0, x2_0]\n",
    "\n",
    "#timestep\n",
    "t = np.linspace(0, 3, 20000)\n",
    "#solve ode\n",
    "y = odeint(mysistem, x_0, t)"
   ]
  },
  {
   "cell_type": "code",
   "execution_count": 23,
   "metadata": {},
   "outputs": [
    {
     "data": {
      "image/png": "[encoded data removed]",
      "text/plain": [
       "<Figure size 432x288 with 1 Axes>"
      ]
     },
     "metadata": {
      "needs_background": "light"
     },
     "output_type": "display_data"
    }
   ],
   "source": [
    "plt.plot(y[:,0],y[:,1], 'b-', linewidth=0.5)\n",
    "#plt.plot(t,y[:,1], 'b-', linewidth=0.5)\n",
    "plt.xlabel(\"x1\")\n",
    "plt.ylabel(\"x2\")\n",
    "plt.show()"
   ]
  }
 ],
 "metadata": {
  "kernelspec": {
   "display_name": "Python 3",
   "language": "python",
   "name": "python3"
  },
  "language_info": {
   "codemirror_mode": {
    "name": "ipython",
    "version": 3
   },
   "file_extension": ".py",
   "mimetype": "text/x-python",
   "name": "python",
   "nbconvert_exporter": "python",
   "pygments_lexer": "ipython3",
   "version": "3.8.5"
  }
 },
 "nbformat": 4,
 "nbformat_minor": 4
}
